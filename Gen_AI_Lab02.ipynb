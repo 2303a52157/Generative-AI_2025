{
  "nbformat": 4,
  "nbformat_minor": 0,
  "metadata": {
    "colab": {
      "provenance": [],
      "authorship_tag": "ABX9TyOAL1YO553jOsWdsMZTN+u1",
      "include_colab_link": true
    },
    "kernelspec": {
      "name": "python3",
      "display_name": "Python 3"
    },
    "language_info": {
      "name": "python"
    }
  },
  "cells": [
    {
      "cell_type": "markdown",
      "metadata": {
        "id": "view-in-github",
        "colab_type": "text"
      },
      "source": [
        "<a href=\"https://colab.research.google.com/github/2303a52157/Generative-AI_2025/blob/main/Gen_AI_Lab02.ipynb\" target=\"_parent\"><img src=\"https://colab.research.google.com/assets/colab-badge.svg\" alt=\"Open In Colab\"/></a>"
      ]
    },
    {
      "cell_type": "markdown",
      "source": [
        "**Case Study 1: Chocolate Manufacturing**"
      ],
      "metadata": {
        "id": "NfaqIb-kbMzW"
      }
    },
    {
      "cell_type": "code",
      "execution_count": 6,
      "metadata": {
        "id": "M6ndah83jIzI",
        "colab": {
          "base_uri": "https://localhost:8080/"
        },
        "outputId": "05027818-5212-436c-8f9f-ac9746026587"
      },
      "outputs": [
        {
          "output_type": "stream",
          "name": "stdout",
          "text": [
            "Units of A: 2.00\n",
            "Units of B: 3.00\n",
            "Maximum Profit: Rs 27.00\n"
          ]
        }
      ],
      "source": [
        "from scipy.optimize import linprog\n",
        "\n",
        "profit = [-6, -5]\n",
        "constraints = [\n",
        "    [1, 1],\n",
        "    [3, 2]\n",
        "]\n",
        "resources = [5, 12]\n",
        "bounds = [(0, None), (0, None)]\n",
        "\n",
        "result = linprog(c=profit, A_ub=constraints, b_ub=resources, bounds=bounds, method=\"highs\")\n",
        "\n",
        "if result.success:\n",
        "    print(f\"Units of A: {result.x[0]:.2f}\")\n",
        "    print(f\"Units of B: {result.x[1]:.2f}\")\n",
        "    print(f\"Maximum Profit: Rs {-result.fun:.2f}\")\n",
        "else:\n",
        "    print(\"No solution found.\")\n"
      ]
    },
    {
      "cell_type": "markdown",
      "source": [
        "**Case Study 2: Farm Optimization**"
      ],
      "metadata": {
        "id": "ngx34X0TbUg8"
      }
    },
    {
      "cell_type": "code",
      "source": [
        "from scipy.optimize import linprog\n",
        "\n",
        "profit = [-50, -120]\n",
        "constraints = [\n",
        "    [7000, 2000],\n",
        "    [10, 30],\n",
        "    [1, 1]\n",
        "]\n",
        "resources = [700000, 1200, 110]\n",
        "bounds = [(0, None), (0, None)]\n",
        "\n",
        "result = linprog(c=profit, A_ub=constraints, b_ub=resources, bounds=bounds, method=\"highs\")\n",
        "\n",
        "if result.success:\n",
        "    print(f\"Hectares of Wheat: {result.x[0]:.2f}\")\n",
        "    print(f\"Hectares of Barley: {result.x[1]:.2f}\")\n",
        "    print(f\"Maximum Profit: Rs {-result.fun:.2f}\")\n",
        "else:\n",
        "    print(\"No solution found.\")"
      ],
      "metadata": {
        "colab": {
          "base_uri": "https://localhost:8080/"
        },
        "id": "UMxTkhbqbWYQ",
        "outputId": "1019783b-a167-433f-b046-1bdb28d0a43c"
      },
      "execution_count": 7,
      "outputs": [
        {
          "output_type": "stream",
          "name": "stdout",
          "text": [
            "Hectares of Wheat: 97.89\n",
            "Hectares of Barley: 7.37\n",
            "Maximum Profit: Rs 5778.95\n"
          ]
        }
      ]
    }
  ]
}