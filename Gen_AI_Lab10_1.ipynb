{
  "cells": [
    {
      "cell_type": "markdown",
      "metadata": {
        "id": "view-in-github",
        "colab_type": "text"
      },
      "source": [
        "<a href=\"https://colab.research.google.com/github/2303a52157/Generative-AI_2025/blob/main/Gen_AI_Lab10_1.ipynb\" target=\"_parent\"><img src=\"https://colab.research.google.com/assets/colab-badge.svg\" alt=\"Open In Colab\"/></a>"
      ]
    },
    {
      "cell_type": "code",
      "execution_count": null,
      "metadata": {
        "colab": {
          "background_save": true,
          "base_uri": "https://localhost:8080/"
        },
        "id": "pTdayOaLWGbz",
        "outputId": "d2ac51b2-ac4b-4e80-b7bb-960d6eb68006"
      },
      "outputs": [
        {
          "name": "stdout",
          "output_type": "stream",
          "text": [
            "Downloading data from https://storage.googleapis.com/tensorflow/tf-keras-datasets/mnist.npz\n",
            "\u001b[1m11490434/11490434\u001b[0m \u001b[32m━━━━━━━━━━━━━━━━━━━━\u001b[0m\u001b[37m\u001b[0m \u001b[1m0s\u001b[0m 0us/step\n"
          ]
        },
        {
          "name": "stderr",
          "output_type": "stream",
          "text": [
            "/usr/local/lib/python3.11/dist-packages/keras/src/layers/convolutional/base_conv.py:107: UserWarning: Do not pass an `input_shape`/`input_dim` argument to a layer. When using Sequential models, prefer using an `Input(shape)` object as the first layer in the model instead.\n",
            "  super().__init__(activity_regularizer=activity_regularizer, **kwargs)\n"
          ]
        },
        {
          "name": "stdout",
          "output_type": "stream",
          "text": [
            "Epoch 1/10\n",
            "313/313 - 15s - 49ms/step - accuracy: 0.8653 - loss: 0.4799 - val_accuracy: 0.9510 - val_loss: 0.1658\n",
            "Epoch 2/10\n",
            "313/313 - 17s - 56ms/step - accuracy: 0.9556 - loss: 0.1450 - val_accuracy: 0.9611 - val_loss: 0.1284\n",
            "Epoch 3/10\n",
            "313/313 - 7s - 23ms/step - accuracy: 0.9715 - loss: 0.0972 - val_accuracy: 0.9722 - val_loss: 0.0878\n",
            "Epoch 4/10\n",
            "313/313 - 10s - 33ms/step - accuracy: 0.9772 - loss: 0.0770 - val_accuracy: 0.9763 - val_loss: 0.0739\n",
            "Epoch 5/10\n",
            "313/313 - 11s - 34ms/step - accuracy: 0.9829 - loss: 0.0579 - val_accuracy: 0.9643 - val_loss: 0.1223\n",
            "Epoch 6/10\n",
            "313/313 - 8s - 25ms/step - accuracy: 0.9845 - loss: 0.0478 - val_accuracy: 0.9794 - val_loss: 0.0679\n",
            "Epoch 7/10\n",
            "313/313 - 9s - 30ms/step - accuracy: 0.9879 - loss: 0.0389 - val_accuracy: 0.9753 - val_loss: 0.0759\n",
            "Epoch 8/10\n",
            "313/313 - 8s - 24ms/step - accuracy: 0.9899 - loss: 0.0300 - val_accuracy: 0.9804 - val_loss: 0.0635\n",
            "Epoch 9/10\n",
            "313/313 - 11s - 35ms/step - accuracy: 0.9922 - loss: 0.0220 - val_accuracy: 0.9810 - val_loss: 0.0627\n",
            "Epoch 10/10\n",
            "313/313 - 7s - 23ms/step - accuracy: 0.9908 - loss: 0.0264 - val_accuracy: 0.9810 - val_loss: 0.0648\n",
            "Training Accuracy: 0.9973\n",
            "Testing Accuracy: 0.9810\n"
          ]
        }
      ],
      "source": [
        "import tensorflow as tf\n",
        "from tensorflow.keras.datasets import mnist\n",
        "from tensorflow.keras.models import Sequential\n",
        "from tensorflow.keras.layers import Conv2D, MaxPooling2D, Flatten, Dense\n",
        "from tensorflow.keras.utils import to_categorical\n",
        "\n",
        "(x_train, y_train), (x_test, y_test) = mnist.load_data()\n",
        "\n",
        "x_train = x_train.reshape(-1, 28, 28, 1).astype('float32') / 255.0\n",
        "x_test = x_test.reshape(-1, 28, 28, 1).astype('float32') / 255.0\n",
        "y_train_cat = to_categorical(y_train, 10)\n",
        "y_test_cat = to_categorical(y_test, 10)\n",
        "\n",
        "x_train_small = x_train[:10000]\n",
        "y_train_cat_small = y_train_cat[:10000]\n",
        "\n",
        "model = Sequential([\n",
        "    Conv2D(16, kernel_size=(3,3), activation='relu', input_shape=(28, 28, 1)),\n",
        "    MaxPooling2D(pool_size=(2, 2)),\n",
        "    Conv2D(32, kernel_size=(3,3), activation='relu'),\n",
        "    MaxPooling2D(pool_size=(2, 2)),\n",
        "    Flatten(),\n",
        "    Dense(64, activation='relu'),\n",
        "    Dense(10, activation='softmax')\n",
        "])\n",
        "\n",
        "model.compile(optimizer='adam', loss='categorical_crossentropy', metrics=['accuracy'])\n",
        "\n",
        "history = model.fit(x_train_small, y_train_cat_small, epochs=10, batch_size=32, validation_data=(x_test, y_test_cat), verbose=2)\n",
        "\n",
        "train_loss, train_accuracy = model.evaluate(x_train_small, y_train_cat_small, verbose=0)\n",
        "test_loss, test_accuracy = model.evaluate(x_test, y_test_cat, verbose=0)\n",
        "\n",
        "print(f\"Training Accuracy: {train_accuracy:.4f}\")\n",
        "print(f\"Testing Accuracy: {test_accuracy:.4f}\")"
      ]
    }
  ],
  "metadata": {
    "colab": {
      "provenance": [],
      "authorship_tag": "ABX9TyMuFztytuGYDuSo14T7xNN3",
      "include_colab_link": true
    },
    "kernelspec": {
      "display_name": "Python 3",
      "name": "python3"
    },
    "language_info": {
      "name": "python"
    }
  },
  "nbformat": 4,
  "nbformat_minor": 0
}